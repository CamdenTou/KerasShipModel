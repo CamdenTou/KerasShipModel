{
 "cells": [
  {
   "cell_type": "code",
   "execution_count": 66,
   "id": "4390c41c",
   "metadata": {
    "scrolled": true
   },
   "outputs": [
    {
     "name": "stdout",
     "output_type": "stream",
     "text": [
      "Epoch 1/20\n"
     ]
    },
    {
     "name": "stderr",
     "output_type": "stream",
     "text": [
      "2022-11-15 23:21:20.655866: I tensorflow/core/grappler/optimizers/custom_graph_optimizer_registry.cc:114] Plugin optimizer for device_type GPU is enabled.\n"
     ]
    },
    {
     "name": "stdout",
     "output_type": "stream",
     "text": [
      "1563/1563 [==============================] - ETA: 0s - loss: 0.2393 - accuracy: 0.9047"
     ]
    },
    {
     "name": "stderr",
     "output_type": "stream",
     "text": [
      "2022-11-15 23:21:50.197215: I tensorflow/core/grappler/optimizers/custom_graph_optimizer_registry.cc:114] Plugin optimizer for device_type GPU is enabled.\n"
     ]
    },
    {
     "name": "stdout",
     "output_type": "stream",
     "text": [
      "1563/1563 [==============================] - 33s 20ms/step - loss: 0.2393 - accuracy: 0.9047 - val_loss: 0.1561 - val_accuracy: 0.9388\n",
      "Epoch 2/20\n",
      "1563/1563 [==============================] - 31s 20ms/step - loss: 0.1502 - accuracy: 0.9418 - val_loss: 0.1483 - val_accuracy: 0.9548\n",
      "Epoch 3/20\n",
      "1563/1563 [==============================] - 32s 20ms/step - loss: 0.1231 - accuracy: 0.9537 - val_loss: 0.1124 - val_accuracy: 0.9559\n",
      "Epoch 4/20\n",
      "1563/1563 [==============================] - 31s 20ms/step - loss: 0.1079 - accuracy: 0.9585 - val_loss: 0.1059 - val_accuracy: 0.9600\n",
      "Epoch 5/20\n",
      "1563/1563 [==============================] - 31s 20ms/step - loss: 0.0925 - accuracy: 0.9645 - val_loss: 0.0974 - val_accuracy: 0.9655\n",
      "Epoch 6/20\n",
      "1563/1563 [==============================] - 30s 19ms/step - loss: 0.0809 - accuracy: 0.9691 - val_loss: 0.0955 - val_accuracy: 0.9648\n",
      "Epoch 7/20\n",
      "1563/1563 [==============================] - 31s 20ms/step - loss: 0.0706 - accuracy: 0.9732 - val_loss: 0.0906 - val_accuracy: 0.9662\n",
      "Epoch 8/20\n",
      "1563/1563 [==============================] - 31s 20ms/step - loss: 0.0632 - accuracy: 0.9756 - val_loss: 0.0947 - val_accuracy: 0.9649\n",
      "Epoch 9/20\n",
      "1563/1563 [==============================] - 31s 20ms/step - loss: 0.0552 - accuracy: 0.9790 - val_loss: 0.0894 - val_accuracy: 0.9675\n",
      "Epoch 10/20\n",
      "1563/1563 [==============================] - 31s 20ms/step - loss: 0.0465 - accuracy: 0.9825 - val_loss: 0.0846 - val_accuracy: 0.9697\n",
      "Epoch 11/20\n",
      "1563/1563 [==============================] - 31s 20ms/step - loss: 0.0465 - accuracy: 0.9826 - val_loss: 0.0857 - val_accuracy: 0.9703\n",
      "Epoch 12/20\n",
      "1563/1563 [==============================] - 31s 20ms/step - loss: 0.0368 - accuracy: 0.9861 - val_loss: 0.0982 - val_accuracy: 0.9662\n",
      "Epoch 13/20\n",
      "1563/1563 [==============================] - 333s 213ms/step - loss: 0.0357 - accuracy: 0.9865 - val_loss: 0.0825 - val_accuracy: 0.9721\n",
      "Epoch 14/20\n",
      "1563/1563 [==============================] - 31s 20ms/step - loss: 0.0313 - accuracy: 0.9884 - val_loss: 0.0986 - val_accuracy: 0.9658\n",
      "Epoch 15/20\n",
      "1563/1563 [==============================] - 31s 20ms/step - loss: 0.0305 - accuracy: 0.9884 - val_loss: 0.0970 - val_accuracy: 0.9718\n",
      "Epoch 16/20\n",
      "1563/1563 [==============================] - 31s 20ms/step - loss: 0.0275 - accuracy: 0.9897 - val_loss: 0.1106 - val_accuracy: 0.9627\n",
      "Epoch 17/20\n",
      "1563/1563 [==============================] - 31s 19ms/step - loss: 0.0268 - accuracy: 0.9897 - val_loss: 0.1041 - val_accuracy: 0.9630\n",
      "Epoch 18/20\n",
      "1563/1563 [==============================] - 31s 20ms/step - loss: 0.0229 - accuracy: 0.9915 - val_loss: 0.1003 - val_accuracy: 0.9682\n",
      "Epoch 19/20\n",
      "1563/1563 [==============================] - 30s 19ms/step - loss: 0.0236 - accuracy: 0.9908 - val_loss: 0.0946 - val_accuracy: 0.9688\n",
      "Epoch 20/20\n",
      "1563/1563 [==============================] - 31s 20ms/step - loss: 0.0207 - accuracy: 0.9925 - val_loss: 0.0929 - val_accuracy: 0.9707\n",
      "Accuracy: 97.07%\n"
     ]
    }
   ],
   "source": [
    "import numpy\n",
    "import tensorflow\n",
    "from tensorflow import keras\n",
    "from keras.constraints import maxnorm\n",
    "from keras.utils import np_utils\n",
    "from keras.datasets import cifar10\n",
    "\n",
    "'''\n",
    "Project goal: Create a neural network image processor that\n",
    "will classify given images (trained on 32x32) as a ship \n",
    "or not a ship\n",
    "'''\n",
    "\n",
    "# Make data usable for image processing, convert\n",
    "# pixels to numerical values\n",
    "(X_train, y_train), (X_test, y_test) = cifar10.load_data()\n",
    "X_train = X_train.astype('float32')\n",
    "X_test = X_test.astype('float32')\n",
    "X_train /= 255\n",
    "X_test /= 255\n",
    "\n",
    "# Want to create a binary, either ship or not ship\n",
    "num_values = 2\n",
    "\n",
    "# Data is developed on a 1-10 classification, need\n",
    "# to change to binary\n",
    "\n",
    "# training data\n",
    "new_y_train = y_train.copy()\n",
    "new_X_train = X_train.copy()\n",
    "for i, arr in enumerate(new_y_train):\n",
    "    if (arr[0] == 8):\n",
    "        new_y_train[i] = 1\n",
    "    else:\n",
    "        new_y_train[i] = 0\n",
    "\n",
    "# testing data\n",
    "new_y_test = y_test.copy()\n",
    "for i, arr in enumerate(new_y_test):\n",
    "    if (arr[0] == 8):\n",
    "        new_y_test[i] = 1\n",
    "    else:\n",
    "        new_y_test[i] = 0\n",
    "\n",
    "\n",
    "# One-hot encode\n",
    "new_y_train = np_utils.to_categorical(new_y_train)\n",
    "new_y_test = np_utils.to_categorical(new_y_test)\n",
    "\n",
    "# Build model using keras\n",
    "ship_model = keras.Sequential()\n",
    "\n",
    "# Layer 1 \n",
    "ship_model.add(keras.layers.Conv2D(32, 4, input_shape=(32,32,3), activation='relu', padding='same'))\n",
    "ship_model.add(keras.layers.Dropout(0.2))\n",
    "ship_model.add(keras.layers.BatchNormalization())\n",
    "\n",
    "# Layer 2\n",
    "ship_model.add(keras.layers.Conv2D(64, 3, activation='relu', padding='same'))\n",
    "ship_model.add(keras.layers.MaxPooling2D(2))\n",
    "ship_model.add(keras.layers.Dropout(0.2))\n",
    "ship_model.add(keras.layers.BatchNormalization())\n",
    "\n",
    "# Layer 3\n",
    "ship_model.add(keras.layers.Conv2D(128, 3, activation='relu', padding='same'))\n",
    "ship_model.add(keras.layers.Dropout(0.2))\n",
    "ship_model.add(keras.layers.BatchNormalization())\n",
    "\n",
    "# Flatten + Dropout\n",
    "ship_model.add(keras.layers.Flatten())\n",
    "ship_model.add(keras.layers.Dropout(0.2))\n",
    "\n",
    "# Layer 4\n",
    "ship_model.add(keras.layers.Dense(32, activation='relu'))\n",
    "ship_model.add(keras.layers.Dropout(0.3))\n",
    "ship_model.add(keras.layers.BatchNormalization())\n",
    "\n",
    "# Dense\n",
    "ship_model.add(keras.layers.Dense(num_values, activation='softmax'))\n",
    "\n",
    "# Compile \n",
    "ship_model.compile(loss='categorical_crossentropy', optimizer='adam', metrics=['accuracy'])\n",
    "\n",
    "# Results \n",
    "history = ship_model.fit(X_train, new_y_train, validation_data=(X_test, new_y_test), epochs=20, batch_size=32)\n",
    "\n",
    "scores = ship_model.evaluate(X_test, new_y_test, verbose=0)\n",
    "print(\"Accuracy: %.2f%%\" % (scores[1]*100))\n"
   ]
  },
  {
   "cell_type": "code",
   "execution_count": 67,
   "id": "544ce684",
   "metadata": {
    "scrolled": true
   },
   "outputs": [
    {
     "name": "stdout",
     "output_type": "stream",
     "text": [
      "1/1 [==============================] - 0s 223ms/step\n"
     ]
    },
    {
     "name": "stderr",
     "output_type": "stream",
     "text": [
      "2022-11-15 23:37:09.247677: I tensorflow/core/grappler/optimizers/custom_graph_optimizer_registry.cc:114] Plugin optimizer for device_type GPU is enabled.\n"
     ]
    },
    {
     "name": "stdout",
     "output_type": "stream",
     "text": [
      "[[0.98572034 0.01427965]]\n",
      "1/1 [==============================] - 0s 13ms/step\n",
      "[[0.11835863 0.8816414 ]]\n",
      "1/1 [==============================] - 0s 12ms/step\n",
      "ship\n",
      "1/1 [==============================] - 0s 10ms/step\n",
      "not a ship\n",
      "[[1. 0.]\n",
      " [0. 1.]\n",
      " [0. 1.]\n",
      " ...\n",
      " [1. 0.]\n",
      " [1. 0.]\n",
      " [1. 0.]]\n"
     ]
    }
   ],
   "source": [
    "import matplotlib.pyplot as plt\n",
    "import matplotlib.image as mpimg\n",
    "from tensorflow.keras.preprocessing import image\n",
    "\n",
    "\n",
    "ship_img_path = \"/Users/camdentoumbleston/Desktop/Jupyter ML/Untitled Folder/ship_image.jpeg\"\n",
    "ship_img = image.load_img(ship_img_path, target_size=(32, 32))\n",
    "# plt.imshow(ship_img)\n",
    "ship_img_array = image.img_to_array(ship_img)\n",
    "ship_img_batch = numpy.expand_dims(ship_img_array, axis=0)\n",
    "ship_img_batch = ship_img_batch.astype('float32')\n",
    "ship_img_batch = ship_img_batch / 255.0\n",
    "\n",
    "cat_img_path = \"/Users/camdentoumbleston/Desktop/Jupyter ML/Untitled Folder/cat_image.jpeg\"\n",
    "img = image.load_img(cat_img_path, target_size=(32, 32))\n",
    "# plt.imshow(img)\n",
    "img_array = image.img_to_array(img)\n",
    "img_batch = numpy.expand_dims(img_array, axis=0)\n",
    "img_batch = img_batch.astype('float32')\n",
    "img_batch = img_batch / 255.0\n",
    "\n",
    "labels=[\"ship\", \"not a ship\"]\n",
    "print(ship_model.predict(img_batch))\n",
    "print(ship_model.predict(ship_img_batch))\n",
    "print(labels[ship_model.predict(img_batch).argmax()])\n",
    "print(labels[ship_model.predict(ship_img_batch).argmax()])\n",
    "print(new_y_test)\n",
    "\n",
    "#print(np_utils.to_categorical(y_test))\n",
    "#print('---')\n",
    "#print(new_y_test)"
   ]
  },
  {
   "cell_type": "code",
   "execution_count": 68,
   "id": "7b3cf00c",
   "metadata": {},
   "outputs": [
    {
     "name": "stderr",
     "output_type": "stream",
     "text": [
      "WARNING:absl:Found untraced functions such as _jit_compiled_convolution_op, _jit_compiled_convolution_op, _jit_compiled_convolution_op while saving (showing 3 of 3). These functions will not be directly callable after loading.\n"
     ]
    },
    {
     "name": "stdout",
     "output_type": "stream",
     "text": [
      "INFO:tensorflow:Assets written to: ship_model/assets\n"
     ]
    },
    {
     "name": "stderr",
     "output_type": "stream",
     "text": [
      "INFO:tensorflow:Assets written to: ship_model/assets\n"
     ]
    }
   ],
   "source": [
    "ship_model.save(\"ship_model\")"
   ]
  }
 ],
 "metadata": {
  "kernelspec": {
   "display_name": "Python 3 (ipykernel)",
   "language": "python",
   "name": "python3"
  },
  "language_info": {
   "codemirror_mode": {
    "name": "ipython",
    "version": 3
   },
   "file_extension": ".py",
   "mimetype": "text/x-python",
   "name": "python",
   "nbconvert_exporter": "python",
   "pygments_lexer": "ipython3",
   "version": "3.10.6"
  }
 },
 "nbformat": 4,
 "nbformat_minor": 5
}
